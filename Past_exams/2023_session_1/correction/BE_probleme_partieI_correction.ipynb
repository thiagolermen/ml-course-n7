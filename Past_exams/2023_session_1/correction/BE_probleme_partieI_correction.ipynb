{
  "cells": [
    {
      "cell_type": "markdown",
      "source": [
        "#Problème:\n",
        "\n",
        "#Deux cas d'utilisation des données d'opportunité"
      ],
      "metadata": {
        "id": "-1ciEeyNevrd"
      }
    },
    {
      "cell_type": "markdown",
      "source": [
        "La qualité de la description d'un phénomène physique dépend des moyens d'observation disponibles. Généralement, les moyens à disposition dépendent de la zone géographique et de la période considérée.\n",
        "Lorsque les capteurs spécifiques sont (très) peu nombreux, on peut chercher à compléter l'observation par des données supplémentaires issues de capteurs non spécifiques. On parle alors de *données d'opportunité*.\n",
        "\n",
        "Les *données d'opportunité* peuvent être exploitées à travers par apprentissage. Une approche courante consiste à entraîner un modèle sur la zone où des capteurs spécifiques peuvent fournir une cible de qualité. Le modèle est ensuite porté là où seules les *données d'opportunité* sont disponibles.\n",
        "\n",
        "Aujourd'hui, on utilise par exemple des données issues des réseaux de télécommunication pour préciser la localisation et l'intensité de phénomènes physiques ou sociaux.  \n",
        "La première partie est inspirée du cas où la donnée opportune est une atténuation du signal échangé entre les antennes d'un réseau mobile.\n",
        "\n",
        "On cherche aussi à exploiter des données issues de capteurs de mauvaise qualité qui peuvent être beaucoup plus nombreux que les capteurs spécifiques. C'est ce qu'illustre la seconde partie.\n",
        "\n",
        "**Note**: les deux parties du problème sont complètement indépendantes."
      ],
      "metadata": {
        "id": "CAkaS7_je3Is"
      }
    },
    {
      "cell_type": "markdown",
      "metadata": {
        "id": "MSgiKnAs1BbN"
      },
      "source": [
        "**Partie I - problème n°1 : régression avec un UNet**"
      ]
    },
    {
      "cell_type": "markdown",
      "source": [
        "Lancer les imports suivants et se placer dans le dossier *BE_prenomnom*"
      ],
      "metadata": {
        "id": "mXAkadrJdANx"
      }
    },
    {
      "cell_type": "code",
      "execution_count": null,
      "metadata": {
        "id": "mU0zdFYCLdgR"
      },
      "outputs": [],
      "source": [
        "import os\n",
        "import random\n",
        "import torch\n",
        "import torch.nn as nn\n",
        "import torch.optim as optim\n",
        "import torch.utils.data\n",
        "import numpy as np\n",
        "import matplotlib.pyplot as plt"
      ]
    },
    {
      "cell_type": "code",
      "execution_count": null,
      "metadata": {
        "id": "tvOwNSPxLlfY"
      },
      "outputs": [],
      "source": [
        "! nvidia-smi # Pour s'assurer de l'accessibilité d'une carte GPU"
      ]
    },
    {
      "cell_type": "code",
      "source": [
        "# Lien valable jusqu'au 17/01/2024:\n",
        "# module à charger\n",
        "! wget https://www.grosfichiers.com/HAnmgiuVNGn_XtdcYCeMNnJ\n",
        "! mv HAnmgiuVNGn_XtdcYCeMNnJ utile_BE.py\n",
        "! mkdir data\n",
        "from utile_BE import *"
      ],
      "metadata": {
        "id": "81Ac859aLn__"
      },
      "execution_count": null,
      "outputs": []
    },
    {
      "cell_type": "markdown",
      "source": [
        "Dans ce problème, la cible $T$ est un champ physique scalaire, positif ou nul. On suppose que, dans le meilleur des cas, deux types de capteurs spécifiques sont disponibles.\\\n",
        "Le premier type fournit une mesure spatialisée du champ. Il n'est pas partout disponible. Le second type de capteur fournit une mesure ponctuelle. Ces capteurs sont implantés partout, mais il ne couvrent correctement que 0.5% de la surface.\\\n",
        "En plus de ces capteurs, on suppose qu'on a accès à des données issues d'un réseau de télécommunications. Ces données réflètent l'atténuation d'un signal échangé entre des antennes relais. On suppose que pour chaque signal émis entre deux antennes $A_i$, $A_j$, on peut calculer une quantité $S(A_i,A_j;T)$ qui ne dépend que de la valeur moyenne du champ $T$ sur le trajet entre $A_i$ et $A_j$.\n",
        "\n",
        "On se place dans le cas où un jeu est constitué sur la zone où la mesure complète du champ est disponible. Pour une première preuve de concept, on travaille avec des images de synthèse sur lesquelles:\n",
        "- les mesures ponctuelles ont été attribuées aux pixels qui leur correspondent.\n",
        "- les données d'opportunité sont représentées par des segments. Les extrémités d'un segment représentent deux antennes $A_i$, $A_j$. Le long d'un segment, l'intensité des pixels est  constante, de valeur $S(A_i,A_j;T)$ (seule exception, dans le cas d'intersections, les valeurs sont simplement sommées - voir ci-dessous)."
      ],
      "metadata": {
        "id": "xlQHRrfQqmKw"
      }
    },
    {
      "cell_type": "code",
      "source": [
        "batch_size = 6\n",
        "p = 0.5 / 100\n",
        "full_target, partial_target, integrated_signals  = gen_image_with_integrated_signals(batch_size, p)\n",
        "\n",
        "\n",
        "fig1 = plt.figure(1, figsize=(36, 6))\n",
        "# champ T\n",
        "voir_batch2D(full_target, 6, fig1, k=0, min_scale=-0.1, max_scale=1)\n",
        "\n",
        "# mesures ponctuelles\n",
        "fig2 = plt.figure(2, figsize=(36, 6))\n",
        "voir_batch2D(partial_target, 6, fig2, k=0, min_scale=-0.2, max_scale=1)\n",
        "\n",
        "# représentation des données d'opportunité par des segments\n",
        "fig3 = plt.figure(3, figsize=(36, 6))\n",
        "voir_batch2D(integrated_signals, 6, fig3, k=0, min_scale= -0.1, max_scale=1)"
      ],
      "metadata": {
        "id": "pd1BiavmQnmO"
      },
      "execution_count": null,
      "outputs": []
    },
    {
      "cell_type": "markdown",
      "source": [
        "Dans la cellule précédente, la fonction *gen_image_with_integrated_signals* permet de visualiser le jeu simulé:\n",
        "- *full_target* représente le champ $T$ sur la zone couverte par l'imagette. Il s'agit de disques de valeurs positives.\n",
        "- *partial_target* représente les mesures ponctuelles. En dehors des points de mesure, la valeur est fixée à -1.\n",
        "- *integrated_signals* contient la représentation par segments. En dehors des segments, la valeur est fixée à 0. Dans cette simulation simpliste, les segments ont tous été supposés parallèles à l'un des deux côtés de l'imagette. De plus, $S$ a été modélisé comme une fonction affine, croissante de la valeur moyenne sur le segment. Ainsi, l'intensité d'un segment croit avec le nombre de disques traversés.\n",
        "\n"
      ],
      "metadata": {
        "id": "iBqBbKylu3qf"
      }
    },
    {
      "cell_type": "markdown",
      "source": [
        "Dans cette partie, le but est de dire:\\\n",
        "**A.** si l'on peut entraîner avec succès un *FCN* à restituer $T$ à partir de données d'opportunité représentées par des segments (**exercice 1**).\\\n",
        "**B.** si en combinant des données d'opportunité aux mesures ponctuelles, on améliore bien les performances d'un $FCN$ (**exercice 2**)."
      ],
      "metadata": {
        "id": "Vjk_hImGoknf"
      }
    },
    {
      "cell_type": "markdown",
      "source": [
        "**Exercice 1**"
      ],
      "metadata": {
        "id": "h4qSC2Sp0Vu1"
      }
    },
    {
      "cell_type": "markdown",
      "source": [
        "**Q1** Dans la cellule suivante, instancier un UNet. Choisir correctement *ch_in* et *ch_out*."
      ],
      "metadata": {
        "id": "3mbQk5JJxhri"
      }
    },
    {
      "cell_type": "code",
      "source": [
        "ch_in = 1\n",
        "ch_out = 1\n",
        "size = 8\n",
        "\n",
        "fcn = UNet(ch_in, ch_out, size).cuda()"
      ],
      "metadata": {
        "id": "8lKrkjdHRSBG"
      },
      "execution_count": null,
      "outputs": []
    },
    {
      "cell_type": "markdown",
      "source": [
        "**Q2** Combien de poids ce réseau contient-il ? Ecrire le calcul ou intégrer un bout de code qui conduit au résultat."
      ],
      "metadata": {
        "id": "SKeHuXmt0j22"
      }
    },
    {
      "cell_type": "code",
      "source": [
        "# Pour voir les noms des couches contenues dans UNEt\n",
        "for module in fcn.modules():\n",
        "    print(module.__class__.__name__)"
      ],
      "metadata": {
        "id": "UVnSOk4btmNX"
      },
      "execution_count": null,
      "outputs": []
    },
    {
      "cell_type": "code",
      "source": [
        "nb_weights = 0\n",
        "for module in fcn.modules():\n",
        "  # On compte les poids des couches qui en contiennent (attention aux doublons!):\n",
        "  if isinstance(module, nn.Conv2d)\\\n",
        "    or isinstance(module, nn.BatchNorm2d)\\\n",
        "    or isinstance(module, nn.ConvTranspose2d):\n",
        "    print(module.__class__.__name__)\n",
        "    for parameter in module.parameters():\n",
        "      nb_weights += torch.numel(parameter)\n",
        "print(\"nb de poids : \" + str(nb_weights))\n",
        "\n",
        "# Il y a 232546 poids"
      ],
      "metadata": {
        "id": "J9zJd62r0n79"
      },
      "execution_count": null,
      "outputs": []
    },
    {
      "cell_type": "markdown",
      "source": [
        "**Q3** Présenter brièvement les types de couches utilisées dans ce réseau."
      ],
      "metadata": {
        "id": "1Heo9DMy0wvN"
      }
    },
    {
      "cell_type": "markdown",
      "source": [
        "On trouve:\n",
        "- des couches de convolutions. Ces couches sont caractérisées par des noyaux qui contiennent les poids (un neurone = un noyau). Pour cette version du UNet, chaque noyau, passé sur l'image d'entrée, fournit une carte de carastéristique de dimensions spatiales égales (ce n'est pas le cas dans un ResNet, à cause du paramètre stride>1...).\n",
        "- des Maxpooling. Ici, ces couches réduisent la taille de l'image intermédiaire en prenant les valeurs maximum sur des carrés de taille 2X2, canal par canal.\n",
        "- des couches de convolution transposées avec stride = 2. Elles génèrent des cartes de caractéristiques dont les dimensions spatiales sont le double de celles de l'image d'entrée.\n",
        "- des fonctions d'activation non-linéaires ReLU (partie positive)."
      ],
      "metadata": {
        "id": "nMlLGY8f1D2F"
      }
    },
    {
      "cell_type": "markdown",
      "source": [
        "**Q4** Dans la cellule suivante, coder en une ligne l'erreur absolue moyenne."
      ],
      "metadata": {
        "id": "v4TOsQlI1EgU"
      }
    },
    {
      "cell_type": "code",
      "source": [
        "def criterion(output,target):\n",
        "  return torch.mean(torch.abs(output-target))"
      ],
      "metadata": {
        "id": "QpAnjlZD0hrk"
      },
      "execution_count": null,
      "outputs": []
    },
    {
      "cell_type": "markdown",
      "source": [
        "**Q5** Instancier l'optimizer Adam avec un taux d'apprentissage de 0.0002."
      ],
      "metadata": {
        "id": "J2-jqJbQ1SqB"
      }
    },
    {
      "cell_type": "code",
      "source": [
        "torch.manual_seed(0)\n",
        "optimizer = optim.Adam(fcn.parameters(), 2*10**(-4))"
      ],
      "metadata": {
        "id": "5vn9-oNyRUgu"
      },
      "execution_count": null,
      "outputs": []
    },
    {
      "cell_type": "markdown",
      "source": [
        "**Q6** Pourquoi est-il nécessaire de passer par une étape de validation lors d'un apprentissage ? Pourquoi peut-on s'en passer dans le cas où les images sont générées la volée ?"
      ],
      "metadata": {
        "id": "BE69GIUQ5Yl7"
      }
    },
    {
      "cell_type": "markdown",
      "source": [
        "Pour garantir les performances en généralisation sur le jeu de test. Autrement dit: l'étape de validation permet de s'assurer qu'il n'y a pas surapprentissage du jeu d'entraînement."
      ],
      "metadata": {
        "id": "boDjmqHV5tBz"
      }
    },
    {
      "cell_type": "markdown",
      "source": [
        "**Q7** Ecrire la boucle d'apprentissage. On stockera la MAE à chaque époque.\n",
        "- nombre d'époques : 30\n",
        "- batches par époque : 100\n",
        "- taille de batch : 32"
      ],
      "metadata": {
        "id": "8uzKkqfa4fQo"
      }
    },
    {
      "cell_type": "code",
      "source": [
        "nepochs = 30\n",
        "nbatches = 100\n",
        "batchsize = 32\n",
        "\n",
        "train_losses_is = []\n",
        "\n",
        "\n",
        "for epoch in range(nepochs):\n",
        "\n",
        "\n",
        "    print(\"Epoch \" + str(epoch))\n",
        "    epoch_losses  = []\n",
        "    for i in range(nbatches):    # nbatch = datasetsize/batchsize\n",
        "        #Load inputs\n",
        "\n",
        "\n",
        "        full_target, partial_target, integrated_signals = gen_image_with_integrated_signals(batch_size, p)\n",
        "\n",
        "\n",
        "        input = integrated_signals.cuda()\n",
        "        target = full_target.cuda()\n",
        "\n",
        "\n",
        "        optimizer.zero_grad()\n",
        "        output = fcn(input)\n",
        "\n",
        "        loss = criterion(output,target)\n",
        "        loss.backward()\n",
        "\n",
        "        optimizer.step()\n",
        "\n",
        "\n",
        "        epoch_losses.append(loss.detach().cpu())\n",
        "\n",
        "        del target, input, loss\n",
        "        torch.cuda.empty_cache()\n",
        "\n",
        "    epoch_loss = np.mean(epoch_losses)\n",
        "    train_losses_is.append(epoch_loss)\n",
        "\n",
        "    print('epoch loss : \\n')\n",
        "    print(epoch_loss)"
      ],
      "metadata": {
        "id": "fGsbUI9iRXQt"
      },
      "execution_count": null,
      "outputs": []
    },
    {
      "cell_type": "markdown",
      "source": [
        "**Q8** Visualisez les résultats. Quelle conséquence visible le choix de la fonction de coût a-t-il eu ? Conclure sur le point **A.**"
      ],
      "metadata": {
        "id": "UuJSiE9r6fkq"
      }
    },
    {
      "cell_type": "code",
      "source": [
        "plt.plot(train_losses_is)\n",
        "plt.title('courbe d apprentissage')"
      ],
      "metadata": {
        "id": "eZZfBeC7EnWD"
      },
      "execution_count": null,
      "outputs": []
    },
    {
      "cell_type": "code",
      "source": [
        "#visualisation:\n",
        "\n",
        "fcn.eval()\n",
        "batch_size_test = 3\n",
        "full_target, partial_target, integrated_signals = gen_image_with_integrated_signals(batch_size_test, p)\n",
        "\n",
        "input = integrated_signals.cuda()\n",
        "\n",
        "output = fcn(input)\n"
      ],
      "metadata": {
        "id": "yNXzvNPj6UoE"
      },
      "execution_count": null,
      "outputs": []
    },
    {
      "cell_type": "code",
      "source": [
        "fig = plt.figure(0, figsize=(36, 6))  #première lignes: entrées\n",
        "voir_batch2D(input.cpu(), 6, fig, k=0, min_scale= 0.09,max_scale=0.11)\n",
        "fig2 = plt.figure(1, figsize=(36, 6))  #seconde ligne: vérité terrain\n",
        "voir_batch2D(full_target + (input.cpu())*10, 6, fig2, k=0, min_scale=0,max_scale=1)\n",
        "fig3 = plt.figure(2, figsize=(36, 6))  #dernière ligne: sorties\n",
        "voir_batch2D(output.detach().cpu() + (input.cpu())*10, 6, fig2, k=0, min_scale=0,max_scale=1.)"
      ],
      "metadata": {
        "id": "4XYYii_bB15T"
      },
      "execution_count": null,
      "outputs": []
    },
    {
      "cell_type": "markdown",
      "source": [
        "A trente époques, l'apprentissage n'est pas terminé; pourtant, le réseau a appris à former des plages de valeurs positives régulières:\n",
        "- sous les segments les plus intenses;\n",
        "- évitant les segments sur lesquels $T$ est de valeur nulle;\n",
        "- discoïdes lorsque plusieurs segments intenses se recoupent.\n",
        "\n",
        "Par contre:\n",
        "- le réseau ne tient pas assez compte des segments qui traduisent une valeur moyenne faible mais non nulle.\n",
        "- les artefacts sont encore nombreux (traces linéaires au sein des plages).\n",
        "\n",
        "Une conséquence de la MAE, comparée à la MSE, c'est d'éviter un bruit strictement positif dans les zones où les segments sont absents (médiane considionnelle nulle).\n",
        "\n",
        "\n",
        "\n",
        "**Note**: la médiane conditionnelle au signal d'entrée n'a pas de raison d'être structurée en disques. Des disques ne sont attendus que dans la situation où le problème peut être inversé (par exemple, aux endroits où les signaux d'entrée sont nombreux)."
      ],
      "metadata": {
        "id": "jRycbhmS8Quc"
      }
    },
    {
      "cell_type": "markdown",
      "source": [
        "**Exercice 2**\n",
        "\n",
        "On souhaite montrer qu'un *fcn* peut utiliser simultanément les deux types de signaux (mesures ponctuelles et données d'opportunité).\n",
        "Reprendre le code de **l'exercice 1** avec les deux champs en entrée. Comparer les performances aux plans quantitatif (courbes d'apprentissage) et qualitatif. Conclure"
      ],
      "metadata": {
        "id": "BJR_FpQ48RL_"
      }
    },
    {
      "cell_type": "code",
      "source": [
        "# Apprentissage avec les données ponctuelles seules:\n",
        "ch_in = 1\n",
        "ch_out = 1\n",
        "size = 8\n",
        "\n",
        "fcn = UNet(ch_in,ch_out,size).cuda()\n",
        "\n",
        "optimizer = optim.Adam(fcn.parameters(), 10**(-4))"
      ],
      "metadata": {
        "id": "y4-Q9ORvKGlV"
      },
      "execution_count": null,
      "outputs": []
    },
    {
      "cell_type": "code",
      "source": [
        "nepochs = 30\n",
        "nbatches = 100\n",
        "batchsize = 32\n",
        "\n",
        "train_losses_pt = []\n",
        "\n",
        "\n",
        "for epoch in range(nepochs):\n",
        "\n",
        "\n",
        "    print(\"Epoch \" + str(epoch))\n",
        "    epoch_losses  = []\n",
        "    for i in range(nbatches):    # nbatch = datasetsize/batchsize\n",
        "        #Load inputs\n",
        "\n",
        "\n",
        "        full_target, partial_target, _ = gen_image_with_integrated_signals(batch_size, p)\n",
        "\n",
        "\n",
        "        input = partial_target.cuda()\n",
        "        target = full_target.cuda()\n",
        "\n",
        "\n",
        "        optimizer.zero_grad()\n",
        "        output = fcn(input)\n",
        "\n",
        "        loss = criterion(output,target)\n",
        "        loss.backward()\n",
        "\n",
        "        optimizer.step()\n",
        "\n",
        "\n",
        "        epoch_losses.append(loss.detach().cpu())\n",
        "\n",
        "        del target, input, loss\n",
        "        torch.cuda.empty_cache()\n",
        "\n",
        "    epoch_loss = np.mean(epoch_losses)\n",
        "    train_losses_pt.append(epoch_loss)\n",
        "\n",
        "    print('epoch loss : \\n')\n",
        "    print(epoch_loss)"
      ],
      "metadata": {
        "id": "7GARGptvKgcw"
      },
      "execution_count": null,
      "outputs": []
    },
    {
      "cell_type": "code",
      "source": [
        "# Apprentissage avec les deux champs en entrée:\n",
        "ch_in = 2\n",
        "ch_out = 1\n",
        "size = 8\n",
        "\n",
        "fcn = UNet(ch_in,ch_out,size).cuda()\n",
        "\n",
        "optimizer = optim.Adam(fcn.parameters(), 10**(-4))"
      ],
      "metadata": {
        "id": "dUb2veJXRkRN"
      },
      "execution_count": null,
      "outputs": []
    },
    {
      "cell_type": "code",
      "source": [
        "nepochs = 30\n",
        "nbatches = 100\n",
        "batch_size = 32\n",
        "p = 0.5 / 100\n",
        "train_losses_2ch = []\n",
        "\n",
        "\n",
        "for epoch in range(nepochs):\n",
        "\n",
        "\n",
        "    print(\"Epoch \" + str(epoch))\n",
        "    epoch_losses  = []\n",
        "    for i in range(nbatches):    # nbatch = datasetsize/batchsize\n",
        "        #Load inputs\n",
        "\n",
        "\n",
        "        full_target, partial_target, integrated_signals =\\\n",
        "                       gen_image_with_integrated_signals(batch_size, p)\n",
        "\n",
        "\n",
        "        input = torch.cat((integrated_signals.cuda(), partial_target.cuda()), dim=1)\n",
        "        target = full_target.cuda()\n",
        "\n",
        "\n",
        "        optimizer.zero_grad()\n",
        "        output = fcn(input)\n",
        "\n",
        "        loss = criterion(output,target)\n",
        "        loss.backward()\n",
        "\n",
        "        optimizer.step()\n",
        "\n",
        "\n",
        "        epoch_losses.append(loss.detach().cpu())\n",
        "\n",
        "        del target, input, loss\n",
        "        torch.cuda.empty_cache()\n",
        "\n",
        "    epoch_loss = np.mean(epoch_losses)\n",
        "    train_losses_2ch.append(epoch_loss)\n",
        "\n",
        "    print('epoch loss : \\n')\n",
        "    print(epoch_loss)\n"
      ],
      "metadata": {
        "id": "yy5UIXT0Rn_9"
      },
      "execution_count": null,
      "outputs": []
    },
    {
      "cell_type": "code",
      "source": [
        "plt.plot(range(5,30), train_losses_is[5:])\n",
        "# cette deuxième courbe permettait d'affiner la conclusion:\n",
        "plt.plot(range(5,30),train_losses_pt[5:])\n",
        "plt.plot(range(5,30),train_losses_2ch[5:])\n",
        "plt.title('courbes d apprentissage')\n",
        "plt.legend(['segments seuls', 'mesures ponctuelles seules', 'segments et mesures ponctuelles'])"
      ],
      "metadata": {
        "id": "Re-zohu2Rpuf",
        "colab": {
          "base_uri": "https://localhost:8080/",
          "height": 298
        },
        "outputId": "6bc3d83a-eaff-41bf-acc6-d841177a079f"
      },
      "execution_count": null,
      "outputs": [
        {
          "output_type": "execute_result",
          "data": {
            "text/plain": [
              "<matplotlib.legend.Legend at 0x7f93e20bfd60>"
            ]
          },
          "metadata": {},
          "execution_count": 93
        },
        {
          "output_type": "display_data",
          "data": {
            "text/plain": [
              "<Figure size 432x288 with 1 Axes>"
            ],
            "image/png": "[encoded data removed]"
          },
          "metadata": {
            "needs_background": "light"
          }
        }
      ]
    },
    {
      "cell_type": "markdown",
      "source": [
        "Les courbes d'apprentissage montrent l'avantage  d'un entraînement avec les deux entrées concaténées comparé au cas où seuls les segments sont disponibles.\n",
        "Cela suggère que le réseau peut effectivement tirer parti des deux champs.\n",
        "\n",
        "Pour affiner la conclusion, il était intéressant d'entraîner le modèle sur les mesures ponctuelles (courbe orange) pour s'assurer que l'ajout des mesures intégrées sur les segments n'a pas un effet négatif sur les performances."
      ],
      "metadata": {
        "id": "BvgrsSUxJ1aJ"
      }
    },
    {
      "cell_type": "code",
      "source": [
        "fcn.eval()\n",
        "batch_size_test = 3\n",
        "full_target, partial_target, integrated_signals = gen_image_with_integrated_signals(batch_size_test, p)\n",
        "\n",
        "input = torch.cat((integrated_signals.cuda(), partial_target.cuda()), dim=1)\n",
        "\n",
        "output = fcn(input)\n",
        "\n",
        "output = output.detach().cpu()\n",
        "input = input.detach().cpu()\n",
        "input_seg = input[:,[0],:,:]\n",
        "input_point = input[:,[1],:,:]\n",
        "\n",
        "full_target[input_seg > 0] = 1\n",
        "full_target[input_point >= 0] = 1\n",
        "\n",
        "fig2 = plt.figure(1, figsize=(36, 6))  #première ligne: vérité terrain\n",
        "voir_batch2D(full_target, 6, fig2, k=0, min_scale=0,max_scale=1)\n",
        "fig3 = plt.figure(2, figsize=(36, 6))  #seconde ligne: sorties\n",
        "voir_batch2D(output.detach().cpu() + (input.cpu()[:,[1],:,:]>=0).float(), 6, fig2, k=0, min_scale=0,max_scale=1)\n"
      ],
      "metadata": {
        "id": "2cbZDX6IRsGU",
        "colab": {
          "base_uri": "https://localhost:8080/",
          "height": 394
        },
        "outputId": "61e7b9fd-018f-46c7-f0c7-3eb24b152d7c"
      },
      "execution_count": null,
      "outputs": [
        {
          "output_type": "display_data",
          "data": {
            "text/plain": [
              "<Figure size 2592x432 with 2 Axes>"
            ],
            "image/png": "[encoded data removed]"
          },
          "metadata": {
            "needs_background": "light"
          }
        },
        {
          "output_type": "display_data",
          "data": {
            "text/plain": [
              "<Figure size 2592x432 with 2 Axes>"
            ],
            "image/png": "[encoded data removed]"
          },
          "metadata": {
            "needs_background": "light"
          }
        }
      ]
    },
    {
      "cell_type": "markdown",
      "source": [
        "Sur les images en sortie, on constate que le réseau tient aussi bien compte des segments que des points pour former des plages de valeurs positives (voir par exemple le disque le plus à gauche sur les images de la deuxième colonne).\n"
      ],
      "metadata": {
        "id": "6JHGChJv4u65"
      }
    }
  ],
  "metadata": {
    "colab": {
      "provenance": []
    },
    "gpuClass": "standard",
    "kernelspec": {
      "display_name": "Python 3",
      "name": "python3"
    },
    "accelerator": "GPU"
  },
  "nbformat": 4,
  "nbformat_minor": 0
}