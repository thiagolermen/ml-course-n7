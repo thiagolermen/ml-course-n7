{
  "cells": [
    {
      "cell_type": "markdown",
      "metadata": {
        "id": "MSgiKnAs1BbN"
      },
      "source": [
        "**Partie 2**\n",
        "\n",
        "Cette partie illustre une autre façon d'exploiter des données d'opportunité, non comme des prédicteurs de substitution, mais comme des cibles de substitution.\n",
        "Par exemple, supposons que:\n",
        "- on veuille prédire un champ $T$ à partir d'un prédicteur spatialisé (image radar, image satellite,....)\n",
        "- seuls quelques capteurs ponctuels fiables sont disponibles dans la zone couverte par le prédicteur\n",
        "- mais une grande quantité de mesures de mauvaise qualité sont disponibles, au moins sur une certaine période. Il peut s'agir, par exemple, de mesures issues de capteurs miniaturisés embarqués sur une flotte de véhicules.\n",
        "\n",
        "Chercher à utiliser ces mesures \"de mauvaise qualité\" comme cibles est assez naturel. Mais pour fonder l'approche, il faut caractériser ce défaut de qualité.\\\n",
        "Dans cet exercice, nous supposons que des mesures supplémentaires sont obtenues par des capteurs \"non étalonnés\" et intermittents. Plus précisément, un capteur non étalonné d'indice $i$ donne au temps $t$ une mesure $\\tilde{y}^t_i$ correcte **à une fonction strictement croissante près**, qui est propre au capteur. On le note:\n",
        " $$\\tilde{y}^t_i = f_i(y^t_i)$$\n",
        "\n",
        "où $y^t_i$ correspond à la mesure correcte, c'est à dire la mesure qu'on aurait obtenue avec un capteur étalonné; $f_i$ est la fonction strictement croissante, propre au capteur.\n",
        "\n",
        "Pour montrer que sous cette hypothèse, un apprentissage est envisageable, nous nous donnons de nouveau un jeu d'images de synthèse de tailles 64 x 64. Pour simplifier, nous nous plaçons dans le cas où:\n",
        "- les images couvrent la même zone physique à des temps différents.\n",
        "- le prédicteur spatialisé $p^t$ couvre toute la zone.\n",
        "- Il y a un capteur par pixel. A chaque temps $t$, on produit une image $\\tilde{y}^t$ contenant les mesures $\\tilde{y}^t_i$.\n",
        "- il n'y a que deux capteurs étalonnés (dans ce cas $\\tilde{y^t_i} = y^t_i$): un au pixel de coordonnées (20,20), l'autre au pixel de coordonnées (40,40). Ceux-là fonctionnent tout le temps.\n",
        "- les autres capteurs sont non étalonnés. Ils ne fournissent une mesure que 20% du temps.\n",
        "- enfin, on suppose que les valeurs du prédicteur ne contiennent pas d'information positionnelle : elles ne permettent pas de remonter aux positions des pixels qui les contiennent.\n",
        "\n",
        "\n",
        "Les cellules suivantes permettent de visualiser le jeu de données."
      ]
    },
    {
      "cell_type": "code",
      "execution_count": null,
      "metadata": {
        "id": "mU0zdFYCLdgR"
      },
      "outputs": [],
      "source": [
        "import os\n",
        "import random\n",
        "import torch\n",
        "import torch.nn as nn\n",
        "import torch.nn.parallel\n",
        "import torch.optim as optim\n",
        "import torch.utils.data\n",
        "import numpy as np\n",
        "import matplotlib.pyplot as plt"
      ]
    },
    {
      "cell_type": "code",
      "execution_count": null,
      "metadata": {
        "id": "wqz7U32_LjwB",
        "colab": {
          "base_uri": "https://localhost:8080/"
        },
        "outputId": "005bbeea-e587-4f85-abfd-fffdda87cee8"
      },
      "outputs": [
        {
          "output_type": "stream",
          "name": "stdout",
          "text": [
            "Mounted at /content/drive\n"
          ]
        }
      ],
      "source": [
        "# Liens valable jusqu'au 17/01/2024:\n",
        "# data à charger:\n",
        "! wget https://www.grosfichiers.com/L7R8MLxtfzG_NwC5CzNnTSt\n",
        "! tar xvf L7R8MLxtfzG_NwC5CzNnTSt\n",
        "! rm L7R8MLxtfzG_NwC5CzNnTSt\n",
        "# module à charger\n",
        "! wget https://www.grosfichiers.com/HAnmgiuVNGn_XtdcYCeMNnJ\n",
        "! mv HAnmgiuVNGn_XtdcYCeMNnJ utile_BE.py\n",
        "from utile_BE import *"
      ]
    },
    {
      "cell_type": "code",
      "source": [
        "p = 20/100\n",
        "batch_size = 6\n",
        "inputs, partial_uncal_measurements = gen_inputs_and_uncal_measurements_train(batch_size, p)\n"
      ],
      "metadata": {
        "id": "LymWMlslV2lC"
      },
      "execution_count": null,
      "outputs": []
    },
    {
      "cell_type": "code",
      "source": [
        "# prédicteur spatialisé\n",
        "fig1 = plt.figure(1, figsize=(36, 6))\n",
        "voir_batch2D(inputs, 6, fig1, k=0, min_scale=0, max_scale=1)\n",
        "\n",
        "# mesures issues de capteurs non étalonnés (données d'opportunité)\n",
        "fig2 = plt.figure(2, figsize=(36, 6))\n",
        "voir_batch2D(partial_uncal_measurements, 6, fig2, k=0, min_scale=0, max_scale=1)\n",
        "\n",
        "# mesures correctes:\n",
        "print(partial_uncal_measurements[:,0,20,20])\n",
        "print(partial_uncal_measurements[:,0,40,40])\n"
      ],
      "metadata": {
        "id": "zU0YZuQcWGdt",
        "colab": {
          "base_uri": "https://localhost:8080/",
          "height": 606
        },
        "outputId": "fd3a7d63-0eba-4fd5-8972-3f983b3b2d98"
      },
      "execution_count": null,
      "outputs": [
        {
          "output_type": "display_data",
          "data": {
            "text/plain": [
              "<Figure size 2592x432 with 2 Axes>"
            ],
            "image/png": "[encoded data removed]"
          },
          "metadata": {
            "needs_background": "light"
          }
        },
        {
          "output_type": "display_data",
          "data": {
            "text/plain": [
              "<Figure size 2592x432 with 2 Axes>"
            ],
            "image/png": "[encoded data removed]"
          },
          "metadata": {
            "needs_background": "light"
          }
        },
        {
          "output_type": "stream",
          "name": "stdout",
          "text": [
            "tensor([0., 0., 0., 0., 0., 0.])\n",
            "tensor([0., 0., 0., 0., 0., 0.])\n"
          ]
        }
      ]
    },
    {
      "cell_type": "markdown",
      "source": [
        "La première ligne correspond au prédicteur spatialisé. Il contient des disques et des rectangles.\\\n",
        "La seconde ligne montre des mesures non étalonnées du champ cible (des cibles bruitées). Les valeurs des pixels pour lesquels la mesure est manquante, environ 80%, sont fixées à -100.\n",
        "Les deux *print* affichent quelques mesures correctes, mais largement insuffisantes pour entraîner un modèle. Remarquer au passage que la mesure correcte est souvent nulle.\n",
        "\n",
        "Nous allons parvenir à estimer la cible correcte en deux étapes, à partir d'un modèle spécifique (voir **exercice 1**). A la première étape, nous entraînons ce modèle par paires (**exercice 2**), en exploitant le fait que les mesures non-étalonnées conservent l'ordre .\n",
        "A la seconde étape, nous étalonnons le modèle (**exercice 3**)."
      ],
      "metadata": {
        "id": "VKoqu_cnGG9n"
      }
    },
    {
      "cell_type": "markdown",
      "source": [
        "**Exercice 1** Description du modèle"
      ],
      "metadata": {
        "id": "Y6w5oGj1G9FI"
      }
    },
    {
      "cell_type": "markdown",
      "source": [
        "**Q1** Le modèle est codé dans la cellule suivante (les objets *Down*, *Up*, etc ont été importés avec *utile_BE*). Il comporte un UNet et un petit réseau complètement connecté. Déterminer la valeur de *n*. Combien de poids le petit réseau contient-il ?"
      ],
      "metadata": {
        "id": "3259izaqJnS-"
      }
    },
    {
      "cell_type": "code",
      "source": [
        "n = ...\n",
        "\n",
        "class UNet_cal(nn.Module):\n",
        "    def __init__(self, n_channels, n_classes,size=64):\n",
        "        super(UNet_cal, self).__init__()\n",
        "        self.inc = inconv(n_channels, size)\n",
        "        self.down1 = Down(size, 2*size)\n",
        "        self.down2 = Down(2*size, 4*size)\n",
        "        self.down3 = Down(4*size, 8*size)\n",
        "        self.down4 = Down(8*size, 8*size)\n",
        "        self.up1 = Up(8*size, 4*size)\n",
        "        self.up2 = Up(4*size, 2*size)\n",
        "        self.up3 = Up(2*size, size)\n",
        "        self.up4 = Up(size, size)\n",
        "        self.outc = outconv(size, n_classes)\n",
        "        self.outc2 = outconv(size, n_classes)\n",
        "        self.n_classes=n_classes\n",
        "\n",
        "\n",
        "        #Pour la partie étalonnage :\n",
        "        self.cal1 = nn.Linear(1,5)\n",
        "        self.cal2 = nn.Linear(5,n)\n",
        "        self.cal3 = nn.Linear(5,1)\n",
        "        self.r = nn.ReLU()\n",
        "\n",
        "    def forward(self, x):\n",
        "        # Unet\n",
        "        x1 = self.inc(x)\n",
        "        x2 = self.down1(x1)\n",
        "        x3 = self.down2(x2)\n",
        "        x4 = self.down3(x3)\n",
        "        x5 = self.down4(x4)\n",
        "        x = self.up1(x5, x4)\n",
        "        del x4, x5\n",
        "        x = self.up2(x, x3)\n",
        "        del x3\n",
        "        x = self.up3(x, x2)\n",
        "        del x2\n",
        "        x = self.up4(x, x1)\n",
        "        del x1\n",
        "        x = self.outc(x)\n",
        "\n",
        "        # Etalonnage:\n",
        "        z = x.transpose(1, 3)\n",
        "        z = self.r(self.cal1(z))\n",
        "        z = self.r(self.cal2(z))\n",
        "        z = torch.tan(self.cal3(z))\n",
        "        z = z.transpose(1, 3)\n",
        "\n",
        "        return   x, z\n"
      ],
      "metadata": {
        "id": "fctvfgrIJbK9"
      },
      "execution_count": null,
      "outputs": []
    },
    {
      "cell_type": "markdown",
      "source": [
        "**Q2** Ce modèle renvoie deux sorties. Pour obtenir $z$, on passe le petit réseau complètement connecté sur toutes les composantes de $x$. $x$ correspond à la sortie du UNet. Vérifier que les dimensions des sorties $x$ et $z$ sont bien identiques.\n"
      ],
      "metadata": {
        "id": "GyYkdES4VFqZ"
      }
    },
    {
      "cell_type": "markdown",
      "source": [
        "**Exercice 2**\n",
        "\n",
        "Dans cet exercice, nous entraînons la partie UNet du modèle sur une tâche de learning to rank. L'idée est de contraindre le réseau à fournir des sorties qui soient arrangées dans le même ordre que les mesures non étalonnées.\\\n",
        "Pour cela nous nous donnons la fonction de coût suivante, où *output0* et *output1* représentent deux sorties $x_0$ et $x_1$ de la partie UNet."
      ],
      "metadata": {
        "id": "CV3vu8IhXKU9"
      }
    },
    {
      "cell_type": "code",
      "source": [
        "def label_to_sgn(label):\n",
        "    sgn = 0*label\n",
        "    eq  = 0*label\n",
        "    sgn.detach()\n",
        "    sgn[label==0] = 1\n",
        "    sgn[label==1] = -1\n",
        "    eq[label==2] = 1\n",
        "    return sgn, eq\n",
        "\n",
        "\n",
        "class MaskedHingeLoss(torch.nn.Module):\n",
        "    def __init__(self, margin = 0.1):\n",
        "        super(MaskedHingeLoss, self).__init__()\n",
        "        self.margin = margin\n",
        "\n",
        "    def forward(self, output0, output1, label, mask):\n",
        "        sgn, eq = label_to_sgn(label)\n",
        "        diff = sgn*(output1 - output0)\n",
        "\n",
        "        loss_eq = eq*torch.abs(output1 - output0)\n",
        "        loss = loss_eq + torch.relu(diff + self.margin)\n",
        "\n",
        "        loss = loss[mask].mean()\n",
        "\n",
        "        return loss, loss_eq[mask]"
      ],
      "metadata": {
        "id": "5rVGdJPdZxXh"
      },
      "execution_count": null,
      "outputs": []
    },
    {
      "cell_type": "markdown",
      "source": [
        "**Q1** Quel est le rôle du terme *torch.relu(diff + self.margin)* ?\n",
        "\n"
      ],
      "metadata": {
        "id": "eTcyVS2_aHpR"
      }
    },
    {
      "cell_type": "markdown",
      "source": [],
      "metadata": {
        "id": "08h7tb_XEEHM"
      }
    },
    {
      "cell_type": "markdown",
      "source": [
        "Il y a deux différences évidentes avec la fonction de coût présentée au TP4:\n",
        "- l'utilisation d'un masque (*mask*). C'est un tenseur de booléens qui indique les positions où les mesures sont présentes sur les deux cibles bruitées (valeur \"True\").\n",
        "- le terme \"loss_eq\". Comme les mesures idéales sont souvent nulles, les mesures issues d'un capteur non étalonné doivent souvent être égales. Le terme \"loss_eq\" permet justement de tenir compte des cas d'égalité."
      ],
      "metadata": {
        "id": "Prq8DxrFqZeG"
      }
    },
    {
      "cell_type": "markdown",
      "source": [
        "**Q2** Pour un batch de 32 paires de cibles bruitées, que doit valoir $torch.sum(mask)$, approximativement ?"
      ],
      "metadata": {
        "id": "7YFHWsMtwoJE"
      }
    },
    {
      "cell_type": "markdown",
      "source": [],
      "metadata": {
        "id": "NGjMgdJ4EFmW"
      }
    },
    {
      "cell_type": "markdown",
      "source": [
        "**Q2**\n",
        "Quelle fonction de coût particulière est appliquée dans un cas d'égalité ?\n",
        "Pour quelle valeur de label est-elle appliquée ?"
      ],
      "metadata": {
        "id": "OSrm-q4WbTmD"
      }
    },
    {
      "cell_type": "markdown",
      "source": [],
      "metadata": {
        "id": "YEHkXsOiEGUE"
      }
    },
    {
      "cell_type": "markdown",
      "source": [
        "**Q3** Instancier le modèle, l'optimizer et la fonction de coût puis compléter la boucle d'apprentissage."
      ],
      "metadata": {
        "id": "dwKrTjsravnC"
      }
    },
    {
      "cell_type": "code",
      "source": [
        "ch_in = 1\n",
        "ch_out = 1\n",
        "size = 8\n",
        "\n",
        "fcn = UNet_cal(ch_in,ch_out,size).cuda()\n",
        "\n",
        "criterion = MaskedHingeLoss(0.1)\n",
        "optimizer = optim.Adam(fcn.parameters(), 10**(-3))"
      ],
      "metadata": {
        "id": "J2XNztYmxJxV"
      },
      "execution_count": null,
      "outputs": []
    },
    {
      "cell_type": "code",
      "source": [
        "nepochs = 50\n",
        "nbatches = 100\n",
        "batchsize = 32\n",
        "\n",
        "# Où l'on stocke l'écart entre les sorties quand les mesures sont identiques:\n",
        "train_losses_eq = []\n",
        "# Où l'on stocke la proportion de paires correctment ordonnées:\n",
        "train_accs = []\n",
        "\n",
        "fcn.train()\n",
        "phase = 'train'\n",
        "for epoch in range(nepochs):\n",
        "    print('-' * 10)\n",
        "    print('Epoch {}/{}'.format(epoch, nepochs - 1))\n",
        "\n",
        "    # Pour calculer la loss_eq moyenne sur l'époque\n",
        "    running_summask = 0.0\n",
        "    running_loss_eq = 0.0\n",
        "\n",
        "    # Pour calculer la prop. de paires correctement ordonnées sur l'époque\n",
        "    running_strict_comparisons = 0\n",
        "    running_corrects = 0\n",
        "\n",
        "    # Itération :\n",
        "    for i in range(nbatches):\n",
        "        # La paire d'inputs, la paires de cibles bruitées:\n",
        "        img0, partial_uncal_measurements0 = gen_inputs_and_uncal_measurements_train(batchsize, p)\n",
        "        img1, partial_uncal_measurements1 = gen_inputs_and_uncal_measurements_train(batchsize, p)\n",
        "\n",
        "        # Passage sur carte GPU:\n",
        "        ...\n",
        "\n",
        "        # Définition des labels (valeurs 0, 1 et 2):\n",
        "        labels =\n",
        "        labels ... = 0.\n",
        "        labels ... = 1.\n",
        "        labels ... = 2.\n",
        "\n",
        "        # Définition du masque\n",
        "        ...\n",
        "\n",
        "        # Définition d'un masque auxiliaire pour la prop de paires\n",
        "        # correctement ordonnées :\n",
        "        mask_foracc = (pum0 > -100)*(pum1 > -100)*(pum0!=pum1)\n",
        "        mask_foracc = mask_foracc.detach()\n",
        "\n",
        "        # Mise à zéro des gradients\n",
        "        ...\n",
        "\n",
        "        # Réseaux siamois (on ne prend que la première sortie)\n",
        "        ...\n",
        "\n",
        "        # prédictions\n",
        "        _, preds = torch.max(torch.cat((output0, output1), dim=1), 1)\n",
        "\n",
        "        # Application de la fonction de coût\n",
        "        ...\n",
        "\n",
        "        # Rétropropagation\n",
        "        ...\n",
        "\n",
        "        # Stats\n",
        "        loss_eq = loss_eq.detach()\n",
        "        nb_eq = torch.sum(loss_eq.detach() != 0).to(torch.float)\n",
        "\n",
        "        summask = torch.sum(mask).to(torch.float)\n",
        "        running_summask += nb_eq/10000.\n",
        "        running_loss_eq += loss_eq.mean().item() * nb_eq/10000.\n",
        "\n",
        "        nb_strict_comparisons = torch.sum(mask_foracc).to(torch.float)\n",
        "        running_strict_comparisons += nb_strict_comparisons\n",
        "        corrects = (preds.unsqueeze(dim=1) == labels.to(torch.long))[mask_foracc]\n",
        "        running_corrects += torch.sum(corrects)\n",
        "\n",
        "        del loss\n",
        "        del loss_eq\n",
        "        del img0\n",
        "        del img1\n",
        "        del pum0\n",
        "        del pum1\n",
        "        del labels\n",
        "        del output0\n",
        "        del output1\n",
        "        torch.cuda.empty_cache()\n",
        "\n",
        "\n",
        "\n",
        "    train_loss = running_loss_eq / running_summask\n",
        "    train_acc = running_corrects.double() / running_strict_comparisons\n",
        "\n",
        "    print('{} Loss: {:.4f} Acc: {:.4f}'.format(\n",
        "        phase, train_loss, train_acc))\n",
        "\n",
        "    train_accs.append(train_acc)\n",
        "    train_losses_eq.append(train_loss)\n",
        "\n"
      ],
      "metadata": {
        "id": "jYjXbEJJWOeX"
      },
      "execution_count": null,
      "outputs": []
    },
    {
      "cell_type": "markdown",
      "source": [
        "**Q4** Visualiser les sorties de la partie UNet après l'apprentissage. Si tout s'est bien passé, la véritable structure de la cible apparaît."
      ],
      "metadata": {
        "id": "8541u6IMzMuY"
      }
    },
    {
      "cell_type": "code",
      "source": [
        "fcn.eval()\n",
        "batchsize_test = 6\n",
        "img1, partial_uncal_measurements1  = gen_inputs_and_uncal_measurements(batchsize_test)\n",
        "img1 = img1.cuda()\n",
        "output, _ = fcn(img1)\n",
        "output = output.detach().cpu()\n",
        "\n",
        "fig4 = plt.figure(4, figsize=(36, 6))  #première lignes: entrées\n",
        "voir_batch2D(img1.cpu(), 6, fig4, k=0, min_scale=-0.2, max_scale=1)\n",
        "\n",
        "fig6 = plt.figure(6, figsize=(36, 6))  #dernière ligne: sorties\n",
        "voir_batch2D(output, 6, fig6, k=0, min_scale=-0.13,max_scale=1.)\n"
      ],
      "metadata": {
        "id": "kSxgmsD3WRqN"
      },
      "execution_count": null,
      "outputs": []
    },
    {
      "cell_type": "markdown",
      "source": [
        "**Q5** Pour affiner le résultat, il suffit de faire tourner l'apprentissage plus longtemps. Charger le fichier *'donut_unet_300ep_step1.pt'* récupéré sur wetransfer. Il correspond aux poids d'un *UNet_cal* entraîné sur 300 époques avec un batch de taille 128."
      ],
      "metadata": {
        "id": "rVRdzDMqzFAW"
      }
    },
    {
      "cell_type": "code",
      "source": [
        "..."
      ],
      "metadata": {
        "id": "BMThkyCnWQNP"
      },
      "execution_count": null,
      "outputs": []
    },
    {
      "cell_type": "markdown",
      "source": [
        "**Q6** La fonction *gen_inputs_and_uncal_measurements_test* permet de visualiser une cible parfaite (mesures correctes). Comparer avec la sortie du UNet précédent et commenter brièvement."
      ],
      "metadata": {
        "id": "NphuV-qk1ibR"
      }
    },
    {
      "cell_type": "code",
      "source": [
        "batchsize_test = 256\n",
        "...  = gen_inputs_and_uncal_measurements_test(batchsize_test)\n"
      ],
      "metadata": {
        "id": "P7c2pV_MWTV0"
      },
      "execution_count": null,
      "outputs": []
    },
    {
      "cell_type": "markdown",
      "source": [
        "**Q7** Expliquer en quoi le choix d'un FCN est essentiel ici. En particulier, dire sur laquelle de nos hypothèses ce choix s'appuie."
      ],
      "metadata": {
        "id": "JXG6vExFtuUn"
      }
    },
    {
      "cell_type": "markdown",
      "source": [
        "**Exercice 3**\n"
      ],
      "metadata": {
        "id": "i9l-qe821UKh"
      }
    },
    {
      "cell_type": "markdown",
      "source": [
        "Dans cette partie, il s'agit d'étalonner la prédiction. C'est là que le petit réseau complètement connecté entre en jeu."
      ],
      "metadata": {
        "id": "SM44roox3Hnk"
      }
    },
    {
      "cell_type": "markdown",
      "source": [
        "**Q1** Geler (freezing - voir TP1) toutes les couches de la partie UNet. Les poids de cette partie ne doivent plus être modifiés."
      ],
      "metadata": {
        "id": "sdqvFjaP3reD"
      }
    },
    {
      "cell_type": "markdown",
      "source": [
        "**Q2** Entraîner le modèle sur les données du capteur étalonné en position (20,20). Valider sur les données du capteur en position (40,40) pour vérifier que la position n'est pas apprise."
      ],
      "metadata": {
        "id": "J2J5NujP4iZM"
      }
    },
    {
      "cell_type": "markdown",
      "source": [
        "**Q3** Comparer (qualitatif) la sortie finale à la sortie idéale et conclure."
      ],
      "metadata": {
        "id": "QZg2rTKH6SVW"
      }
    }
  ],
  "metadata": {
    "colab": {
      "provenance": []
    },
    "gpuClass": "standard",
    "kernelspec": {
      "display_name": "Python 3",
      "name": "python3"
    }
  },
  "nbformat": 4,
  "nbformat_minor": 0
}