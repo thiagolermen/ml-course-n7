{
  "cells": [
    {
      "cell_type": "markdown",
      "metadata": {
        "id": "_CACBFsndOCo"
      },
      "source": [
        "**Fiche d'exercice n°1**\n",
        "\n",
        "Cette fiche d'exercices doit permettre de :\n",
        "- s'entraîner au devoir de janvier\n",
        "- compléter votre culture dans le domaine\n",
        "\n",
        "La correction sera mise à disposition autour du 11/11."
      ]
    },
    {
      "cell_type": "markdown",
      "metadata": {
        "id": "t5RcggmAkJLV"
      },
      "source": [
        "**Question 1** Nous avons vu qu'il était impossible de séparer les nuages de points du TP1/partie I/B avec un perceptron une couche. Mais c'est parce que nous nous sommes limités à deux prédicteurs, l'abscisse $x$ et l'ordonnée $y$. Quels autres prédicteurs peut-on utiliser pour résoudre le problème sans ajouter de couches au perceptron ?\n",
        "  "
      ]
    },
    {
      "cell_type": "markdown",
      "metadata": {
        "id": "p4B0YORSkz1G"
      },
      "source": [
        "**Question 2** A quel modèle statistique correspond un perceptron à une couche avec une fonction d'activation sigmoïde ?\n",
        "Citer une bibliothèque python qui permet d'appliquer ce modèle à un jeu de données."
      ]
    },
    {
      "cell_type": "markdown",
      "metadata": {
        "id": "EUCeXqO7icjq"
      },
      "source": [
        "**Question 3** Combien un VGG16 contient-il de paramètres dans les couches de convolutions ? Dans les couches complètement connectées ?\n",
        "Appuyer par un bout de code."
      ]
    },
    {
      "cell_type": "markdown",
      "metadata": {
        "id": "sjBFb83GmuEY"
      },
      "source": [
        "**Question 4** Visualiser la première couche d'un VGG entraîné sur ImageNet. Commenter."
      ]
    },
    {
      "cell_type": "markdown",
      "metadata": {
        "id": "hfcRiTA2mzrp"
      },
      "source": [
        "**Question 5** Quel est l'effet d'un dropout sur les couches complètement connectées ? Illustrer sur un perceptron à une couche avec quelques lignes de codes."
      ]
    },
    {
      "cell_type": "markdown",
      "metadata": {
        "id": "i-xSNmhpm1LB"
      },
      "source": [
        "**Problème 1** Classification avec cibles bruitées\n",
        "\n",
        "Les utilisateurs du Machine Learning font souvent face à un problème de qualité des cibles.\n",
        "Dans ce court problème, on se propose de mesurer l'effet de cibles bruitées sur les performances en généralisation d'un CNN.\n",
        "\n",
        "\n",
        "Pour une comparaison propre, nous allons d'abord scinder en trois jeux le dataset MNIST :\n"
      ]
    },
    {
      "cell_type": "code",
      "execution_count": null,
      "metadata": {
        "id": "NozoimIfmkjc"
      },
      "outputs": [],
      "source": [
        "import torchvision\n",
        "from torchvision import datasets\n",
        "import torch\n",
        "from torch.utils.data import random_split, Dataset, DataLoader\n",
        "root = '/content/drive/MyDrive/TP_ENM/data'\n",
        "\n",
        "#Définition des jeux d'apprentissage:\n",
        "tr=torchvision.transforms.Compose([\n",
        "   torchvision.transforms.ToTensor(),\n",
        "   torchvision.transforms.Normalize((0.1307,), (0.3081,))\n",
        "   ])\n",
        "\n",
        "\n",
        "ds_trainval = datasets.MNIST(root='MNIST', download=True, train=True)\n",
        "ds_test = datasets.MNIST(root='MNIST', download=True, train=False)\n",
        "\n",
        "\n",
        "\n",
        "len_trainval = len(ds_trainval)\n",
        "len_train = round(0.8 * len_trainval)\n",
        "len_val = len_trainval - len_train\n",
        "subset_train, subset_val = random_split(ds_trainval,\n",
        "                                [len_train, len_val],\n",
        "                                generator=torch.Generator().manual_seed(1))"
      ]
    },
    {
      "cell_type": "code",
      "execution_count": null,
      "metadata": {
        "id": "rXc4EkTz0IFM"
      },
      "outputs": [],
      "source": [
        "#Split aléatoire en deux datasets (80% train, 20% val):\n",
        "class SubDataset(Dataset):\n",
        "    def __init__(self, subset, transform=None):\n",
        "        self.subset = subset\n",
        "        self.transform = transform\n",
        "\n",
        "    def __getitem__(self, index):\n",
        "        x, y = self.subset[index]\n",
        "        if self.transform:\n",
        "            x = self.transform(x)\n",
        "        return x, y\n",
        "\n",
        "    def __len__(self):\n",
        "        return len(self.subset)"
      ]
    },
    {
      "cell_type": "code",
      "execution_count": null,
      "metadata": {
        "id": "uOosklok0Lik"
      },
      "outputs": [],
      "source": [
        "ds = {}\n",
        "ds['train'] = SubDataset(subset_train, tr)\n",
        "ds['val'] = SubDataset(subset_val, tr)\n",
        "ds['test'] = ds_test\n",
        "loader = {x : DataLoader(ds[x], batch_size=32, shuffle=True, num_workers = 2) for x in ds.keys()}"
      ]
    },
    {
      "cell_type": "markdown",
      "metadata": {
        "id": "JtQObOlvsZmK"
      },
      "source": [
        "**Question 6**  Quelles sont les tailles des différents jeux de données ? A quoi sert-il de fixer le générateur de nombres aléatoires dans random_split ?"
      ]
    },
    {
      "cell_type": "markdown",
      "metadata": {
        "id": "VPUp4Ckqsvwq"
      },
      "source": [
        "**Question 7** Reprendre le CNN du TP2/partie1 et la fonction train_model_gpu vue au TP2/partie2.\n",
        "- Ajouter une procédure de sélection de modèle à partir des performances sur le jeu de validation.\n",
        "- Coder une fonction test_model_gpu() qui calcule la justesse sur le jeu de test.\n",
        "- Faire tourner l'apprentissage sur 50 époques, avec l'optimiser ADAM, paramétré de manière standard.\n",
        "\n",
        "Quelles sont les performances sur le jeu de test du modèle sélectionné ? \\\\\n"
      ]
    },
    {
      "cell_type": "markdown",
      "metadata": {
        "id": "GhGIdbGx1oRn"
      },
      "source": [
        "**Question 8** Quel est l'effet de la fonction suivante sur un batch de cibles ?"
      ]
    },
    {
      "cell_type": "code",
      "execution_count": null,
      "metadata": {
        "id": "OiZuZ2_p1xY2"
      },
      "outputs": [],
      "source": [
        "def flipping_label(labels, p):\n",
        "  #Sélection aléatoire des composantes\n",
        "  flip_probas = p * torch.ones(labels.shape)\n",
        "  flip_or_not = torch.bernoulli(flip_probas) == 1\n",
        "  random_labels = torch.randint(0,10,labels.shape).to(device)\n",
        "  labels[flip_or_not] = random_labels[flip_or_not]\n",
        "\n",
        "\n",
        "\n",
        "labels = torch.randint(0,10,(32,)).to(device)\n",
        "print(labels)\n",
        "\n",
        "# niveau de bruit :\n",
        "p = 0.5\n",
        "\n",
        "# Après bruitage :\n",
        "flipping_label(labels, p)\n",
        "print(labels)"
      ]
    },
    {
      "cell_type": "markdown",
      "metadata": {
        "id": "-5gWTBWgt9O0"
      },
      "source": [
        "**Question 9** Définir une procédure d'entraînement \"bruitée\" à partir de flipping_labels() (ne bruiter que la phase d'entraînement). Quel est l'effet sur les performances en fonction du niveau de bruit ?"
      ]
    },
    {
      "cell_type": "markdown",
      "metadata": {
        "id": "NA8klyqT7w7c"
      },
      "source": [
        "**Problème 2** Le chat perturbé\n",
        "\n",
        "\n",
        "Reprendre l'image de chat du TP2 et la bruiter de manière à ce que :\n",
        "- le chat soit encore parfaitement reconnaissable\n",
        "- le VGG16 vu au TP2 se trompe complètement de classe.\n",
        "\n",
        "Vous pourrez par exemple dégrader la résolution et modifier localement la valeur de certains pixels. En vous renseignant un peu sur les \"attaques adversariales\", vous verrez comment aborder le problème par des techniques d'optimisation bien choisies. \\\\\n",
        "L'image \"disrupted_cat.jpg\" du répertoire \"exercises\" fournit un exemple de solution. Les cellules ci-dessous permettent de le vérifier."
      ]
    },
    {
      "cell_type": "code",
      "execution_count": null,
      "metadata": {
        "colab": {
          "base_uri": "https://localhost:8080/"
        },
        "id": "1a5xCu_O_FCn",
        "outputId": "30300fc6-c9ef-44ee-ebfc-e1078eaead24"
      },
      "outputs": [
        {
          "output_type": "stream",
          "name": "stdout",
          "text": [
            "Mounted at /content/drive\n"
          ]
        }
      ],
      "source": [
        "from google.colab import drive\n",
        "drive.mount('/content/drive')"
      ]
    },
    {
      "cell_type": "code",
      "execution_count": null,
      "metadata": {
        "id": "0bgOmbQOK5C7"
      },
      "outputs": [],
      "source": [
        "import torch\n",
        "import torch.nn as nn\n",
        "import matplotlib.pyplot as plt\n",
        "import numpy as np\n",
        "from torchvision import models\n",
        "\n",
        "model = models.vgg16(pretrained=True)\n",
        "model = model.cuda()\n",
        "softmx = nn.Softmax(dim=1).cuda()\n",
        "model.eval()\n"
      ]
    },
    {
      "cell_type": "code",
      "execution_count": null,
      "metadata": {
        "id": "XlOFTHwj_fOZ"
      },
      "outputs": [],
      "source": [
        "def imshow(inp, title=None, save_path=None):\n",
        "    if save_path is not None:\n",
        "        torch.save(inp, save_path)\n",
        "    inp = inp.numpy().transpose((1, 2, 0))\n",
        "    mean = np.array([0.485, 0.456, 0.406])\n",
        "    std = np.array([0.229, 0.224, 0.225])\n",
        "    inp = std * inp + mean\n",
        "    inp = np.clip(inp, 0, 1)\n",
        "    plt.imshow(inp)\n",
        "    if title is not None:\n",
        "        plt.title(title)"
      ]
    },
    {
      "cell_type": "code",
      "execution_count": null,
      "metadata": {
        "colab": {
          "base_uri": "https://localhost:8080/",
          "height": 285
        },
        "id": "wNi8jykKiLvR",
        "outputId": "fdd8540c-082e-45c6-8fad-d307d08102ea"
      },
      "outputs": [
        {
          "output_type": "stream",
          "name": "stdout",
          "text": [
            "classe prédite : 333 (hamster)\n"
          ]
        },
        {
          "output_type": "display_data",
          "data": {
            "text/plain": [
              "<Figure size 432x288 with 1 Axes>"
            ],
            "image/png": "[encoded data removed]"
          },
          "metadata": {
            "needs_background": "light"
          }
        }
      ],
      "source": [
        "## Après optimisation voici une configuration qui arrive à tromper le modèle\n",
        "path = 'Ou/est/disrupted_cat.jpg'\n",
        "dcat = torch.load(path)\n",
        "imshow(dcat)\n",
        "\n",
        "dcat = dcat.unsqueeze(dim=0).cuda()\n",
        "output_dcat = softmx(model(dcat)).squeeze(dim=0)\n",
        "pred_dcat = torch.max(output_dcat, dim=0)[1].item()\n",
        "print(\"classe prédite : \" + str(pred_dcat) + \" (hamster)\")"
      ]
    }
  ],
  "metadata": {
    "accelerator": "GPU",
    "colab": {
      "provenance": []
    },
    "gpuClass": "standard",
    "kernelspec": {
      "display_name": "Python 3",
      "name": "python3"
    }
  },
  "nbformat": 4,
  "nbformat_minor": 0
}